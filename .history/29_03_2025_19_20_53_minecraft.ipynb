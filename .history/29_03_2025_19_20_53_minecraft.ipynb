{
 "cells": [
  {
   "cell_type": "markdown",
   "id": "768c5f48-271c-4124-b7c5-4d7bfc286ecc",
   "metadata": {},
   "source": [
    "# Project Final Report - Who contributes the most data?\n",
    "\n",
    "Authors: Hunter, Sophia, Jiho, and Freya"
   ]
  },
  {
   "cell_type": "markdown",
   "id": "c167b269-b7f4-44ef-aab0-487779445153",
   "metadata": {},
   "source": [
    "## Introduction"
   ]
  },
  {
   "cell_type": "markdown",
   "id": "79dc68e1-6f8e-4cd3-9e5e-1268f82b4c95",
   "metadata": {},
   "source": [
    "#### Background Information"
   ]
  },
  {
   "cell_type": "markdown",
   "id": "36114473-e845-4131-9f9a-21cbc874b2c8",
   "metadata": {},
   "source": [
    "#### Question"
   ]
  },
  {
   "cell_type": "markdown",
   "id": "07f8bf54-eed0-454a-accd-9838755cac5d",
   "metadata": {},
   "source": [
    "#### The Data"
   ]
  },
  {
   "cell_type": "markdown",
   "id": "ffff8da0-10d3-48ba-ae38-a759ee02b1f6",
   "metadata": {},
   "source": [
    "## Methods & Results"
   ]
  },
  {
   "cell_type": "markdown",
   "id": "46f77109-16fc-4799-aada-b16309a39611",
   "metadata": {},
   "source": [
    "#### Loading the Data"
   ]
  },
  {
   "cell_type": "markdown",
   "id": "32caa7e5-83fe-4397-b6b7-480274656283",
   "metadata": {},
   "source": [
    "#### Wrangling the Data"
   ]
  },
  {
   "cell_type": "markdown",
   "id": "97dd0e4e-2ac4-4abf-8a16-bc552f0c7b1c",
   "metadata": {},
   "source": [
    "#### Summary Statistics"
   ]
  },
  {
   "cell_type": "markdown",
   "id": "eaad673d-0d24-45f6-abfe-c44f6fc26f2a",
   "metadata": {},
   "source": [
    "#### Visualizations"
   ]
  },
  {
   "cell_type": "markdown",
   "id": "2588b307-340b-45b1-b995-254be8a595ef",
   "metadata": {},
   "source": [
    "#### Modeling and Analysis"
   ]
  },
  {
   "cell_type": "code",
   "execution_count": null,
   "id": "b2325d0e-cf82-4f5c-a1dd-4c2ea0a3aa51",
   "metadata": {},
   "outputs": [],
   "source": []
  },
  {
   "cell_type": "markdown",
   "id": "1525f5ee-5a59-4458-8488-f077ee3cd74d",
   "metadata": {},
   "source": [
    "## Discussion"
   ]
  }
 ],
 "metadata": {
  "kernelspec": {
   "display_name": "R",
   "language": "R",
   "name": "ir"
  },
  "language_info": {
   "codemirror_mode": "r",
   "file_extension": ".r",
   "mimetype": "text/x-r-source",
   "name": "R",
   "pygments_lexer": "r",
   "version": "4.3.3"
  }
 },
 "nbformat": 4,
 "nbformat_minor": 5
}
