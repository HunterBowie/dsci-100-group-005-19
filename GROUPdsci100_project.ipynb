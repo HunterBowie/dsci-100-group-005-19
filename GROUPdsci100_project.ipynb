{
 "cells": [
  {
   "cell_type": "markdown",
   "id": "768c5f48-271c-4124-b7c5-4d7bfc286ecc",
   "metadata": {},
   "source": [
    "# Predicting Player Engagement: Using KNN Regression to Identify High-Activity Gamers\n",
    "\n",
    "Authors: Hunter, Sophia, Jiho, and Freya"
   ]
  },
  {
   "cell_type": "markdown",
   "id": "c167b269-b7f4-44ef-aab0-487779445153",
   "metadata": {},
   "source": [
    "## Introduction"
   ]
  },
  {
   "cell_type": "markdown",
   "id": "26935522-4ec7-4ca4-a2b9-ff2914d74ea4",
   "metadata": {},
   "source": [
    "<span style=\"color:pink;\">Delete the pink when submitting!!!\n",
    "Title\n",
    "Introduction:\n",
    "provide some relevant background information on the topic so that someone unfamiliar with it will be prepared to understand the rest of your report\n",
    "clearly state the question you tried to answer with your project\n",
    "identify and fully describe the dataset that was used to answer the question\n",
    "</span>"
   ]
  },
  {
   "cell_type": "markdown",
   "id": "79dc68e1-6f8e-4cd3-9e5e-1268f82b4c95",
   "metadata": {},
   "source": [
    "#### Background Information"
   ]
  },
  {
   "cell_type": "markdown",
   "id": "35ef153c-d183-4683-8724-aa8f41919628",
   "metadata": {},
   "source": [
    "Understanding player engagement in online gaming is crucial for improving user experience and optimizing recruitment strategies. Online games generate vast amounts of data, but identifying which players are most likely to contribute substantial gameplay data can help developers and researchers make informed decisions. Our project explores the factors influencing player engagement by analyzing a *PLAICraft* study dataset."
   ]
  },
  {
   "cell_type": "markdown",
   "id": "36114473-e845-4131-9f9a-21cbc874b2c8",
   "metadata": {},
   "source": [
    "#### The Question"
   ]
  },
  {
   "cell_type": "markdown",
   "id": "3897d421-cc01-42d5-8673-6f23ad17ee3b",
   "metadata": {},
   "source": [
    "The primary research question we aim to answer is: **Which kinds of players are most likely to contribute a large amount of data so that those players can be targeted in recruiting efforts?** More specifically, we investigate whether **age, experience, and subscription status** can predict the total hours a player spends in the game. To achieve this, we apply **K-Nearest Neighbors (KNN) Regression**, focusing on the predictors \"subscribe\", \"age\" and \"experience,\" as these variables showed strong correlations with gameplay hours and contained the most usable data."
   ]
  },
  {
   "cell_type": "markdown",
   "id": "07f8bf54-eed0-454a-accd-9838755cac5d",
   "metadata": {},
   "source": [
    "#### The Data"
   ]
  },
  {
   "cell_type": "markdown",
   "id": "db87ae2e-bc13-4ed4-8241-3d099e6e2c7f",
   "metadata": {},
   "source": [
    "The dataset used for this analysis, **players.csv**, consists of **196 observations** and **7 variables**, capturing demographic and gameplay information from participants in the PLAICraft study. The variables include:\n",
    "\n",
    "| Variables | Description | Datatype |\n",
    "|----------|----------|----------|\n",
    "| experience | The level of experience of the player (beginner, amateur, regular, veteran, pro) | character   |\n",
    "| subscribe  | Whether the player subscribed to PLAICraft email updates  | logical  |\n",
    "| hashedEmail  | An anonymous email assigned to each player |character   |\n",
    "| played_hours | The total number of hours the player has spent in-game   | double  |\n",
    "| name  | An anonymous name the player has chosen for their in-game character   | character   |\n",
    "| gender  | The gender of the player   | character   |\n",
    "| age  | The age of the player   | integer   |"
   ]
  },
  {
   "cell_type": "markdown",
   "id": "ffff8da0-10d3-48ba-ae38-a759ee02b1f6",
   "metadata": {},
   "source": [
    "## Methods & Results"
   ]
  },
  {
   "cell_type": "markdown",
   "id": "9bb24c75-11ba-4dcd-ba5e-90cc1dd9ad6b",
   "metadata": {},
   "source": [
    "<span style=\"color:pink;\">Delete the pink when submitting!!!\n",
    "Methods & Results:\n",
    "describe the methods you used to perform your analysis from beginning to end that narrates the analysis code.\n",
    "your report should include code which:\n",
    "loads data \n",
    "wrangles and cleans the data to the format necessary for the planned analysis\n",
    "performs a summary of the data set that is relevant for exploratory data analysis related to the planned analysis \n",
    "creates a visualization of the dataset that is relevant for exploratory data analysis related to the planned analysis\n",
    "performs the data analysis\n",
    "creates a visualization of the analysis \n",
    "note: all figures should have a figure number and a legend\n",
    "</span>"
   ]
  },
  {
   "cell_type": "markdown",
   "id": "40b73005-10f1-4237-8c4d-e7ab96e6e039",
   "metadata": {},
   "source": [
    "#### Why KNN Regression?\n",
    "\n",
    "KNN Regression is well-suited for this dataset because it effectively captures **non-linear relationships** between predictor and response variables. Unlike linear regression, KNN does not assume a specific functional form, making it more flexible for complex patterns in gameplay behavior. Since KNN relies on distance-based comparisons, **feature scaling** is necessary to ensure accurate predictions.\n",
    "\n",
    "#### Assumptions and Limitations\n",
    "\n",
    "Applying KNN regression requires certain assumptions:\n",
    "- **Feature Scaling:** Normalization or standardization is essential for fair distance-based comparisons.\n",
    "- **Sufficient Data Density:** Adequate representation of all player types ensures reliable nearest-neighbor predictions.\n",
    "- **Choice of k:** The k-value must balance bias and variance to prevent overfitting or excessive smoothing.\n",
    "\n",
    "Potential limitations of KNN include:\n",
    "- **Computational inefficiency:** KNN can be slow for large datasets due to repeated distance calculations.\n",
    "- **High-dimensionality issues:** The method struggles with performance as the number of predictor variables increases.\n",
    "- **Sensitivity to outliers:** Noisy or extreme values can significantly impact predictions.\n",
    "\n",
    "#### Data Challenges\n",
    "\n",
    "Several issues were identified in the dataset:\n",
    "- **Incorrect Data Types:** \"Experience\" and \"Gender\" were read as character variables but should be factors.\n",
    "- **Missing Data:** Two missing values were found in the \"Age\" variable, requiring appropriate handling before analysis.\n",
    "\n",
    "By addressing these challenges and leveraging KNN regression, we aim to gain insights into the characteristics of highly engaged players, helping game developers and researchers improve player retention and targeted recruitment efforts."
   ]
  },
  {
   "cell_type": "markdown",
   "id": "46f77109-16fc-4799-aada-b16309a39611",
   "metadata": {},
   "source": [
    "#### Loading the Data"
   ]
  },
  {
   "cell_type": "markdown",
   "id": "1353d06a-dcc8-4301-8487-6ee570f5e017",
   "metadata": {},
   "source": [
    "First, we load the necessary libraries to manage data frames, adjust graph sizes, and build predictive models effectively."
   ]
  },
  {
   "cell_type": "code",
   "execution_count": 2,
   "id": "3434c2f8-49da-451c-980c-a3aa2263b593",
   "metadata": {},
   "outputs": [
    {
     "name": "stderr",
     "output_type": "stream",
     "text": [
      "── \u001b[1mAttaching core tidyverse packages\u001b[22m ──────────────────────── tidyverse 2.0.0 ──\n",
      "\u001b[32m✔\u001b[39m \u001b[34mdplyr    \u001b[39m 1.1.4     \u001b[32m✔\u001b[39m \u001b[34mreadr    \u001b[39m 2.1.5\n",
      "\u001b[32m✔\u001b[39m \u001b[34mforcats  \u001b[39m 1.0.0     \u001b[32m✔\u001b[39m \u001b[34mstringr  \u001b[39m 1.5.1\n",
      "\u001b[32m✔\u001b[39m \u001b[34mggplot2  \u001b[39m 3.5.1     \u001b[32m✔\u001b[39m \u001b[34mtibble   \u001b[39m 3.2.1\n",
      "\u001b[32m✔\u001b[39m \u001b[34mlubridate\u001b[39m 1.9.3     \u001b[32m✔\u001b[39m \u001b[34mtidyr    \u001b[39m 1.3.1\n",
      "\u001b[32m✔\u001b[39m \u001b[34mpurrr    \u001b[39m 1.0.2     \n",
      "── \u001b[1mConflicts\u001b[22m ────────────────────────────────────────── tidyverse_conflicts() ──\n",
      "\u001b[31m✖\u001b[39m \u001b[34mdplyr\u001b[39m::\u001b[32mfilter()\u001b[39m masks \u001b[34mstats\u001b[39m::filter()\n",
      "\u001b[31m✖\u001b[39m \u001b[34mdplyr\u001b[39m::\u001b[32mlag()\u001b[39m    masks \u001b[34mstats\u001b[39m::lag()\n",
      "\u001b[36mℹ\u001b[39m Use the conflicted package (\u001b[3m\u001b[34m<http://conflicted.r-lib.org/>\u001b[39m\u001b[23m) to force all conflicts to become errors\n",
      "── \u001b[1mAttaching packages\u001b[22m ────────────────────────────────────── tidymodels 1.1.1 ──\n",
      "\n",
      "\u001b[32m✔\u001b[39m \u001b[34mbroom       \u001b[39m 1.0.6     \u001b[32m✔\u001b[39m \u001b[34mrsample     \u001b[39m 1.2.1\n",
      "\u001b[32m✔\u001b[39m \u001b[34mdials       \u001b[39m 1.3.0     \u001b[32m✔\u001b[39m \u001b[34mtune        \u001b[39m 1.1.2\n",
      "\u001b[32m✔\u001b[39m \u001b[34minfer       \u001b[39m 1.0.7     \u001b[32m✔\u001b[39m \u001b[34mworkflows   \u001b[39m 1.1.4\n",
      "\u001b[32m✔\u001b[39m \u001b[34mmodeldata   \u001b[39m 1.4.0     \u001b[32m✔\u001b[39m \u001b[34mworkflowsets\u001b[39m 1.0.1\n",
      "\u001b[32m✔\u001b[39m \u001b[34mparsnip     \u001b[39m 1.2.1     \u001b[32m✔\u001b[39m \u001b[34myardstick   \u001b[39m 1.3.1\n",
      "\u001b[32m✔\u001b[39m \u001b[34mrecipes     \u001b[39m 1.1.0     \n",
      "\n",
      "── \u001b[1mConflicts\u001b[22m ───────────────────────────────────────── tidymodels_conflicts() ──\n",
      "\u001b[31m✖\u001b[39m \u001b[34mscales\u001b[39m::\u001b[32mdiscard()\u001b[39m masks \u001b[34mpurrr\u001b[39m::discard()\n",
      "\u001b[31m✖\u001b[39m \u001b[34mdplyr\u001b[39m::\u001b[32mfilter()\u001b[39m   masks \u001b[34mstats\u001b[39m::filter()\n",
      "\u001b[31m✖\u001b[39m \u001b[34mrecipes\u001b[39m::\u001b[32mfixed()\u001b[39m  masks \u001b[34mstringr\u001b[39m::fixed()\n",
      "\u001b[31m✖\u001b[39m \u001b[34mdplyr\u001b[39m::\u001b[32mlag()\u001b[39m      masks \u001b[34mstats\u001b[39m::lag()\n",
      "\u001b[31m✖\u001b[39m \u001b[34myardstick\u001b[39m::\u001b[32mspec()\u001b[39m masks \u001b[34mreadr\u001b[39m::spec()\n",
      "\u001b[31m✖\u001b[39m \u001b[34mrecipes\u001b[39m::\u001b[32mstep()\u001b[39m   masks \u001b[34mstats\u001b[39m::step()\n",
      "\u001b[34m•\u001b[39m Dig deeper into tidy modeling with R at \u001b[32mhttps://www.tmwr.org\u001b[39m\n",
      "\n"
     ]
    }
   ],
   "source": [
    "library(tidyverse)\n",
    "library(repr)\n",
    "library(tidymodels)"
   ]
  },
  {
   "cell_type": "markdown",
   "id": "0a02b1fc-4833-4264-9851-5a87cbf2afe0",
   "metadata": {},
   "source": [
    "Then, we download the player data and read it into R."
   ]
  },
  {
   "cell_type": "code",
   "execution_count": 8,
   "id": "44d39cca-ce41-4abe-8c39-1afe364e79da",
   "metadata": {},
   "outputs": [
    {
     "name": "stderr",
     "output_type": "stream",
     "text": [
      "\u001b[1mRows: \u001b[22m\u001b[34m196\u001b[39m \u001b[1mColumns: \u001b[22m\u001b[34m7\u001b[39m\n",
      "\u001b[36m──\u001b[39m \u001b[1mColumn specification\u001b[22m \u001b[36m────────────────────────────────────────────────────────\u001b[39m\n",
      "\u001b[1mDelimiter:\u001b[22m \",\"\n",
      "\u001b[31mchr\u001b[39m (4): experience, hashedEmail, name, gender\n",
      "\u001b[32mdbl\u001b[39m (2): played_hours, Age\n",
      "\u001b[33mlgl\u001b[39m (1): subscribe\n",
      "\n",
      "\u001b[36mℹ\u001b[39m Use `spec()` to retrieve the full column specification for this data.\n",
      "\u001b[36mℹ\u001b[39m Specify the column types or set `show_col_types = FALSE` to quiet this message.\n"
     ]
    },
    {
     "name": "stdout",
     "output_type": "stream",
     "text": [
      "Rows: 196\n",
      "Columns: 7\n",
      "$ experience   \u001b[3m\u001b[90m<chr>\u001b[39m\u001b[23m \"Pro\", \"Veteran\", \"Veteran\", \"Amateur\", \"Regular\", \"Amate…\n",
      "$ subscribe    \u001b[3m\u001b[90m<lgl>\u001b[39m\u001b[23m TRUE, TRUE, FALSE, TRUE, TRUE, TRUE, TRUE, FALSE, TRUE, T…\n",
      "$ hashedEmail  \u001b[3m\u001b[90m<chr>\u001b[39m\u001b[23m \"f6daba428a5e19a3d47574858c13550499be23603422e6a0ee9728f8…\n",
      "$ played_hours \u001b[3m\u001b[90m<dbl>\u001b[39m\u001b[23m 30.3, 3.8, 0.0, 0.7, 0.1, 0.0, 0.0, 0.0, 0.1, 0.0, 1.6, 0…\n",
      "$ name         \u001b[3m\u001b[90m<chr>\u001b[39m\u001b[23m \"Morgan\", \"Christian\", \"Blake\", \"Flora\", \"Kylie\", \"Adrian…\n",
      "$ gender       \u001b[3m\u001b[90m<chr>\u001b[39m\u001b[23m \"Male\", \"Male\", \"Male\", \"Female\", \"Male\", \"Female\", \"Fema…\n",
      "$ Age          \u001b[3m\u001b[90m<dbl>\u001b[39m\u001b[23m 9, 17, 17, 21, 21, 17, 19, 21, 17, 22, 23, 17, 25, 22, 17…\n"
     ]
    }
   ],
   "source": [
    "players_url <- \"https://drive.google.com/uc?export=download&id=18CyKdv1ppgp7RraugrDq66w_T-6dkrdG\"\n",
    "download.file(players_url, \"players.csv\")\n",
    "players <- read_csv(\"players.csv\")\n",
    "glimpse(players)"
   ]
  },
  {
   "cell_type": "markdown",
   "id": "32caa7e5-83fe-4397-b6b7-480274656283",
   "metadata": {},
   "source": [
    "#### Wrangling the Data"
   ]
  },
  {
   "cell_type": "markdown",
   "id": "2b0f7f47-8adb-454c-9a50-b3a8d451818f",
   "metadata": {},
   "source": [
    "We need to convert columns to their proper types—experience and gender as factors and Age as an integer. Additionally, we will remove rows with missing values, which only occur in the Age column."
   ]
  },
  {
   "cell_type": "code",
   "execution_count": 17,
   "id": "72861781-b9c3-4fd9-8b1d-64ae545e90d5",
   "metadata": {},
   "outputs": [
    {
     "data": {
      "text/html": [
       "<table class=\"dataframe\">\n",
       "<caption>A tibble: 5 × 8</caption>\n",
       "<thead>\n",
       "\t<tr><th scope=col>experience</th><th scope=col>subscribe</th><th scope=col>hashedEmail</th><th scope=col>played_hours</th><th scope=col>name</th><th scope=col>gender</th><th scope=col>Age</th><th scope=col>individualId</th></tr>\n",
       "\t<tr><th scope=col>&lt;fct&gt;</th><th scope=col>&lt;lgl&gt;</th><th scope=col>&lt;chr&gt;</th><th scope=col>&lt;dbl&gt;</th><th scope=col>&lt;chr&gt;</th><th scope=col>&lt;fct&gt;</th><th scope=col>&lt;int&gt;</th><th scope=col>&lt;int&gt;</th></tr>\n",
       "</thead>\n",
       "<tbody>\n",
       "\t<tr><td>Pro    </td><td> TRUE</td><td>f6daba428a5e19a3d47574858c13550499be23603422e6a0ee9728f8b53e192d</td><td>30.3</td><td>Morgan   </td><td>Male  </td><td> 9</td><td>1</td></tr>\n",
       "\t<tr><td>Veteran</td><td> TRUE</td><td>f3c813577c458ba0dfef80996f8f32c93b6e8af1fa939732842f2312358a88e9</td><td> 3.8</td><td>Christian</td><td>Male  </td><td>17</td><td>2</td></tr>\n",
       "\t<tr><td>Veteran</td><td>FALSE</td><td>b674dd7ee0d24096d1c019615ce4d12b20fcbff12d79d3c5a9d2118eb7ccbb28</td><td> 0.0</td><td>Blake    </td><td>Male  </td><td>17</td><td>3</td></tr>\n",
       "\t<tr><td>Amateur</td><td> TRUE</td><td>23fe711e0e3b77f1da7aa221ab1192afe21648d47d2b4fa7a5a659ff443a0eb5</td><td> 0.7</td><td>Flora    </td><td>Female</td><td>21</td><td>4</td></tr>\n",
       "\t<tr><td>Regular</td><td> TRUE</td><td>7dc01f10bf20671ecfccdac23812b1b415acd42c2147cb0af4d48fcce2420f3e</td><td> 0.1</td><td>Kylie    </td><td>Male  </td><td>21</td><td>5</td></tr>\n",
       "</tbody>\n",
       "</table>\n"
      ],
      "text/latex": [
       "A tibble: 5 × 8\n",
       "\\begin{tabular}{llllllll}\n",
       " experience & subscribe & hashedEmail & played\\_hours & name & gender & Age & individualId\\\\\n",
       " <fct> & <lgl> & <chr> & <dbl> & <chr> & <fct> & <int> & <int>\\\\\n",
       "\\hline\n",
       "\t Pro     &  TRUE & f6daba428a5e19a3d47574858c13550499be23603422e6a0ee9728f8b53e192d & 30.3 & Morgan    & Male   &  9 & 1\\\\\n",
       "\t Veteran &  TRUE & f3c813577c458ba0dfef80996f8f32c93b6e8af1fa939732842f2312358a88e9 &  3.8 & Christian & Male   & 17 & 2\\\\\n",
       "\t Veteran & FALSE & b674dd7ee0d24096d1c019615ce4d12b20fcbff12d79d3c5a9d2118eb7ccbb28 &  0.0 & Blake     & Male   & 17 & 3\\\\\n",
       "\t Amateur &  TRUE & 23fe711e0e3b77f1da7aa221ab1192afe21648d47d2b4fa7a5a659ff443a0eb5 &  0.7 & Flora     & Female & 21 & 4\\\\\n",
       "\t Regular &  TRUE & 7dc01f10bf20671ecfccdac23812b1b415acd42c2147cb0af4d48fcce2420f3e &  0.1 & Kylie     & Male   & 21 & 5\\\\\n",
       "\\end{tabular}\n"
      ],
      "text/markdown": [
       "\n",
       "A tibble: 5 × 8\n",
       "\n",
       "| experience &lt;fct&gt; | subscribe &lt;lgl&gt; | hashedEmail &lt;chr&gt; | played_hours &lt;dbl&gt; | name &lt;chr&gt; | gender &lt;fct&gt; | Age &lt;int&gt; | individualId &lt;int&gt; |\n",
       "|---|---|---|---|---|---|---|---|\n",
       "| Pro     |  TRUE | f6daba428a5e19a3d47574858c13550499be23603422e6a0ee9728f8b53e192d | 30.3 | Morgan    | Male   |  9 | 1 |\n",
       "| Veteran |  TRUE | f3c813577c458ba0dfef80996f8f32c93b6e8af1fa939732842f2312358a88e9 |  3.8 | Christian | Male   | 17 | 2 |\n",
       "| Veteran | FALSE | b674dd7ee0d24096d1c019615ce4d12b20fcbff12d79d3c5a9d2118eb7ccbb28 |  0.0 | Blake     | Male   | 17 | 3 |\n",
       "| Amateur |  TRUE | 23fe711e0e3b77f1da7aa221ab1192afe21648d47d2b4fa7a5a659ff443a0eb5 |  0.7 | Flora     | Female | 21 | 4 |\n",
       "| Regular |  TRUE | 7dc01f10bf20671ecfccdac23812b1b415acd42c2147cb0af4d48fcce2420f3e |  0.1 | Kylie     | Male   | 21 | 5 |\n",
       "\n"
      ],
      "text/plain": [
       "  experience subscribe\n",
       "1 Pro         TRUE    \n",
       "2 Veteran     TRUE    \n",
       "3 Veteran    FALSE    \n",
       "4 Amateur     TRUE    \n",
       "5 Regular     TRUE    \n",
       "  hashedEmail                                                      played_hours\n",
       "1 f6daba428a5e19a3d47574858c13550499be23603422e6a0ee9728f8b53e192d 30.3        \n",
       "2 f3c813577c458ba0dfef80996f8f32c93b6e8af1fa939732842f2312358a88e9  3.8        \n",
       "3 b674dd7ee0d24096d1c019615ce4d12b20fcbff12d79d3c5a9d2118eb7ccbb28  0.0        \n",
       "4 23fe711e0e3b77f1da7aa221ab1192afe21648d47d2b4fa7a5a659ff443a0eb5  0.7        \n",
       "5 7dc01f10bf20671ecfccdac23812b1b415acd42c2147cb0af4d48fcce2420f3e  0.1        \n",
       "  name      gender Age individualId\n",
       "1 Morgan    Male    9  1           \n",
       "2 Christian Male   17  2           \n",
       "3 Blake     Male   17  3           \n",
       "4 Flora     Female 21  4           \n",
       "5 Kylie     Male   21  5           "
      ]
     },
     "metadata": {},
     "output_type": "display_data"
    }
   ],
   "source": [
    "# ok so here I was just looking at the written code in the group project versus my own, and we both did extra stuff\n",
    "# that the other person didn't do, so I combined the codes\n",
    "# we can delete the players1 and players2 when necessary\n",
    "\n",
    "# players1 <- mutate(players,\n",
    "#     experience = as_factor(experience),\n",
    "#     gender = as_factor(gender),\n",
    "#     Age = as.integer(Age)) |>\n",
    "#     filter(!is.na(Age))\n",
    "# glimpse(players1)\n",
    "\n",
    "# players2 <- players |>\n",
    "#     mutate(individualId = seq(1, 196)) |>\n",
    "#     mutate(experience = as_factor(experience),\n",
    "#           gender = as_factor(gender)) |>\n",
    "#     filter(!is.na(Age))\n",
    "# players2\n",
    "\n",
    "players <- players |>\n",
    "    mutate(individualId = seq(1, 194),\n",
    "        experience = as_factor(experience),\n",
    "        gender = as_factor(gender),\n",
    "        Age = as.integer(Age)) |>\n",
    "    filter(!is.na(Age))\n",
    "head(players, 5)"
   ]
  },
  {
   "cell_type": "markdown",
   "id": "97dd0e4e-2ac4-4abf-8a16-bc552f0c7b1c",
   "metadata": {},
   "source": [
    "#### Summary of Dataset"
   ]
  },
  {
   "cell_type": "markdown",
   "id": "764c8d36-af9b-4cf7-90ed-ac7b84bb142c",
   "metadata": {},
   "source": [
    "Since we are concerned with experience, gender, subscribe, age, and played_hours for our model, let's make some tables of summary statistics for the counts/measures of center of those variables."
   ]
  },
  {
   "cell_type": "code",
   "execution_count": 5,
   "id": "f31977c8-0a8d-4d56-a04c-7dcde2b6c0d2",
   "metadata": {},
   "outputs": [
    {
     "data": {
      "text/html": [
       "<table class=\"dataframe\">\n",
       "<caption>A tibble: 1 × 4</caption>\n",
       "<thead>\n",
       "\t<tr><th scope=col>average_played_hours</th><th scope=col>median_played_hours</th><th scope=col>average_age</th><th scope=col>median_age</th></tr>\n",
       "\t<tr><th scope=col>&lt;dbl&gt;</th><th scope=col>&lt;dbl&gt;</th><th scope=col>&lt;dbl&gt;</th><th scope=col>&lt;dbl&gt;</th></tr>\n",
       "</thead>\n",
       "<tbody>\n",
       "\t<tr><td>5.904639</td><td>0.1</td><td>20.52062</td><td>19</td></tr>\n",
       "</tbody>\n",
       "</table>\n"
      ],
      "text/latex": [
       "A tibble: 1 × 4\n",
       "\\begin{tabular}{llll}\n",
       " average\\_played\\_hours & median\\_played\\_hours & average\\_age & median\\_age\\\\\n",
       " <dbl> & <dbl> & <dbl> & <dbl>\\\\\n",
       "\\hline\n",
       "\t 5.904639 & 0.1 & 20.52062 & 19\\\\\n",
       "\\end{tabular}\n"
      ],
      "text/markdown": [
       "\n",
       "A tibble: 1 × 4\n",
       "\n",
       "| average_played_hours &lt;dbl&gt; | median_played_hours &lt;dbl&gt; | average_age &lt;dbl&gt; | median_age &lt;dbl&gt; |\n",
       "|---|---|---|---|\n",
       "| 5.904639 | 0.1 | 20.52062 | 19 |\n",
       "\n"
      ],
      "text/plain": [
       "  average_played_hours median_played_hours average_age median_age\n",
       "1 5.904639             0.1                 20.52062    19        "
      ]
     },
     "metadata": {},
     "output_type": "display_data"
    },
    {
     "data": {
      "text/html": [
       "<table class=\"dataframe\">\n",
       "<caption>A tibble: 5 × 2</caption>\n",
       "<thead>\n",
       "\t<tr><th scope=col>experience</th><th scope=col>count</th></tr>\n",
       "\t<tr><th scope=col>&lt;fct&gt;</th><th scope=col>&lt;int&gt;</th></tr>\n",
       "</thead>\n",
       "<tbody>\n",
       "\t<tr><td>Pro     </td><td>13</td></tr>\n",
       "\t<tr><td>Veteran </td><td>48</td></tr>\n",
       "\t<tr><td>Amateur </td><td>63</td></tr>\n",
       "\t<tr><td>Regular </td><td>35</td></tr>\n",
       "\t<tr><td>Beginner</td><td>35</td></tr>\n",
       "</tbody>\n",
       "</table>\n"
      ],
      "text/latex": [
       "A tibble: 5 × 2\n",
       "\\begin{tabular}{ll}\n",
       " experience & count\\\\\n",
       " <fct> & <int>\\\\\n",
       "\\hline\n",
       "\t Pro      & 13\\\\\n",
       "\t Veteran  & 48\\\\\n",
       "\t Amateur  & 63\\\\\n",
       "\t Regular  & 35\\\\\n",
       "\t Beginner & 35\\\\\n",
       "\\end{tabular}\n"
      ],
      "text/markdown": [
       "\n",
       "A tibble: 5 × 2\n",
       "\n",
       "| experience &lt;fct&gt; | count &lt;int&gt; |\n",
       "|---|---|\n",
       "| Pro      | 13 |\n",
       "| Veteran  | 48 |\n",
       "| Amateur  | 63 |\n",
       "| Regular  | 35 |\n",
       "| Beginner | 35 |\n",
       "\n"
      ],
      "text/plain": [
       "  experience count\n",
       "1 Pro        13   \n",
       "2 Veteran    48   \n",
       "3 Amateur    63   \n",
       "4 Regular    35   \n",
       "5 Beginner   35   "
      ]
     },
     "metadata": {},
     "output_type": "display_data"
    },
    {
     "data": {
      "text/html": [
       "<table class=\"dataframe\">\n",
       "<caption>A tibble: 2 × 2</caption>\n",
       "<thead>\n",
       "\t<tr><th scope=col>subscribe</th><th scope=col>count</th></tr>\n",
       "\t<tr><th scope=col>&lt;lgl&gt;</th><th scope=col>&lt;int&gt;</th></tr>\n",
       "</thead>\n",
       "<tbody>\n",
       "\t<tr><td>FALSE</td><td> 52</td></tr>\n",
       "\t<tr><td> TRUE</td><td>142</td></tr>\n",
       "</tbody>\n",
       "</table>\n"
      ],
      "text/latex": [
       "A tibble: 2 × 2\n",
       "\\begin{tabular}{ll}\n",
       " subscribe & count\\\\\n",
       " <lgl> & <int>\\\\\n",
       "\\hline\n",
       "\t FALSE &  52\\\\\n",
       "\t  TRUE & 142\\\\\n",
       "\\end{tabular}\n"
      ],
      "text/markdown": [
       "\n",
       "A tibble: 2 × 2\n",
       "\n",
       "| subscribe &lt;lgl&gt; | count &lt;int&gt; |\n",
       "|---|---|\n",
       "| FALSE |  52 |\n",
       "|  TRUE | 142 |\n",
       "\n"
      ],
      "text/plain": [
       "  subscribe count\n",
       "1 FALSE      52  \n",
       "2  TRUE     142  "
      ]
     },
     "metadata": {},
     "output_type": "display_data"
    },
    {
     "data": {
      "text/html": [
       "<table class=\"dataframe\">\n",
       "<caption>A tibble: 6 × 2</caption>\n",
       "<thead>\n",
       "\t<tr><th scope=col>gender</th><th scope=col>count</th></tr>\n",
       "\t<tr><th scope=col>&lt;fct&gt;</th><th scope=col>&lt;int&gt;</th></tr>\n",
       "</thead>\n",
       "<tbody>\n",
       "\t<tr><td>Male             </td><td>124</td></tr>\n",
       "\t<tr><td>Female           </td><td> 37</td></tr>\n",
       "\t<tr><td>Non-binary       </td><td> 15</td></tr>\n",
       "\t<tr><td>Prefer not to say</td><td> 11</td></tr>\n",
       "\t<tr><td>Agender          </td><td>  2</td></tr>\n",
       "\t<tr><td>Two-Spirited     </td><td>  5</td></tr>\n",
       "</tbody>\n",
       "</table>\n"
      ],
      "text/latex": [
       "A tibble: 6 × 2\n",
       "\\begin{tabular}{ll}\n",
       " gender & count\\\\\n",
       " <fct> & <int>\\\\\n",
       "\\hline\n",
       "\t Male              & 124\\\\\n",
       "\t Female            &  37\\\\\n",
       "\t Non-binary        &  15\\\\\n",
       "\t Prefer not to say &  11\\\\\n",
       "\t Agender           &   2\\\\\n",
       "\t Two-Spirited      &   5\\\\\n",
       "\\end{tabular}\n"
      ],
      "text/markdown": [
       "\n",
       "A tibble: 6 × 2\n",
       "\n",
       "| gender &lt;fct&gt; | count &lt;int&gt; |\n",
       "|---|---|\n",
       "| Male              | 124 |\n",
       "| Female            |  37 |\n",
       "| Non-binary        |  15 |\n",
       "| Prefer not to say |  11 |\n",
       "| Agender           |   2 |\n",
       "| Two-Spirited      |   5 |\n",
       "\n"
      ],
      "text/plain": [
       "  gender            count\n",
       "1 Male              124  \n",
       "2 Female             37  \n",
       "3 Non-binary         15  \n",
       "4 Prefer not to say  11  \n",
       "5 Agender             2  \n",
       "6 Two-Spirited        5  "
      ]
     },
     "metadata": {},
     "output_type": "display_data"
    }
   ],
   "source": [
    "summarize(players, \n",
    "    average_played_hours = mean(played_hours),\n",
    "    median_played_hours = median(played_hours),\n",
    "    average_age = mean(Age),\n",
    "    median_age = median(Age))\n",
    "summarize(group_by(players, experience), count = n())\n",
    "summarize(group_by(players, subscribe), count = n())\n",
    "summarize(group_by(players, gender), count = n())"
   ]
  },
  {
   "cell_type": "markdown",
   "id": "0067fbac-d121-447e-832d-6f179adda805",
   "metadata": {},
   "source": [
    "[additional summary]"
   ]
  },
  {
   "cell_type": "markdown",
   "id": "eaad673d-0d24-45f6-abfe-c44f6fc26f2a",
   "metadata": {},
   "source": [
    "#### Visualizations"
   ]
  },
  {
   "cell_type": "markdown",
   "id": "dec5e37e-7817-410d-9ba0-d0cb8db88aaa",
   "metadata": {},
   "source": [
    "[description of methods]"
   ]
  },
  {
   "cell_type": "code",
   "execution_count": 4,
   "id": "d4eb4223-60fc-4511-b821-b5d0955664c8",
   "metadata": {},
   "outputs": [],
   "source": [
    "# these visualizations are relevant for exploratory data analysis and related to the planned analysis\n",
    "\n",
    "# note: all figures should have a figure number and a legend"
   ]
  },
  {
   "cell_type": "markdown",
   "id": "2588b307-340b-45b1-b995-254be8a595ef",
   "metadata": {},
   "source": [
    "#### Modeling and Analysis"
   ]
  },
  {
   "cell_type": "markdown",
   "id": "744a2dc1-6aba-4671-acb6-10a9e50dbcfd",
   "metadata": {},
   "source": [
    "[description of methods]"
   ]
  },
  {
   "cell_type": "code",
   "execution_count": null,
   "id": "1c2fc76b-ffe1-4efe-a1f9-c419b2e33f34",
   "metadata": {},
   "outputs": [],
   "source": [
    "# should include visualizations of model\n",
    "players_train <- players |>\n",
    "                    select(Age, experimence, subscribe, played_hours, subscribe)\n",
    "knn_spec <- nearest_neighbor(weight_func = \"rectangular\", neighbors = 5) |>\n",
    "  set_engine(\"kknn\") |>\n",
    "  set_mode(\"classification\")\n",
    "knn_recipe <- recipe(played_hours ~ ., data = players_train) |>\n",
    "  step_scale(all_numeric()) |>\n",
    "  step_center(all_numeric()) |>\n",
    "knn_fit <- workflow()|>\n",
    "  add_recipe(knn_recipe)|>\n",
    "  add_model(knn_spec)|>\n",
    "  fit(data = players_train)\n",
    "knn_fit"
   ]
  },
  {
   "cell_type": "markdown",
   "id": "1525f5ee-5a59-4458-8488-f077ee3cd74d",
   "metadata": {},
   "source": [
    "## Discussion (write in Discussion.md first)"
   ]
  },
  {
   "cell_type": "markdown",
   "id": "b22e6491-7b5b-40e2-b4eb-de103d5cee9f",
   "metadata": {},
   "source": [
    "#### Summary"
   ]
  },
  {
   "cell_type": "markdown",
   "id": "9aec13a1-64dc-4b1e-a57d-e75284250ec9",
   "metadata": {},
   "source": [
    "..."
   ]
  },
  {
   "cell_type": "markdown",
   "id": "bd8a31d0-52e2-475c-aad0-f44ff1b81eee",
   "metadata": {},
   "source": [
    "#### Is this what you expected?"
   ]
  },
  {
   "cell_type": "markdown",
   "id": "b5bee27d-a5ef-4ccd-bf40-5381f81a1655",
   "metadata": {},
   "source": [
    "..."
   ]
  },
  {
   "cell_type": "markdown",
   "id": "b6399b6c-591a-45f8-b5e0-00dfc5c71476",
   "metadata": {},
   "source": [
    "#### What is the impact of the findings?"
   ]
  },
  {
   "cell_type": "markdown",
   "id": "f52eb4b2-ed8e-4eef-8919-8a9cc6499bb7",
   "metadata": {},
   "source": [
    "..."
   ]
  },
  {
   "cell_type": "markdown",
   "id": "39ae97da-cf1c-4a30-863f-09bc1adccb33",
   "metadata": {},
   "source": [
    "#### Future Questions"
   ]
  },
  {
   "cell_type": "markdown",
   "id": "73a6a51e-8eba-447b-9198-e83082b68962",
   "metadata": {},
   "source": [
    "..."
   ]
  }
 ],
 "metadata": {
  "kernelspec": {
   "display_name": "R",
   "language": "R",
   "name": "ir"
  },
  "language_info": {
   "codemirror_mode": "r",
   "file_extension": ".r",
   "mimetype": "text/x-r-source",
   "name": "R",
   "pygments_lexer": "r",
   "version": "4.3.3"
  }
 },
 "nbformat": 4,
 "nbformat_minor": 5
}
