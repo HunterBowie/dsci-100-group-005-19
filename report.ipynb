{
 "cells": [
  {
   "cell_type": "markdown",
   "id": "768c5f48-271c-4124-b7c5-4d7bfc286ecc",
   "metadata": {},
   "source": [
    "# Project Final Report - Who contributes the most data?\n",
    "\n",
    "Authors: Hunter, Sophia, Jiho, and Freya"
   ]
  },
  {
   "cell_type": "markdown",
   "id": "c167b269-b7f4-44ef-aab0-487779445153",
   "metadata": {},
   "source": [
    "## Introduction (write in Introduction.md first)"
   ]
  },
  {
   "cell_type": "markdown",
   "id": "79dc68e1-6f8e-4cd3-9e5e-1268f82b4c95",
   "metadata": {},
   "source": [
    "#### Background Information"
   ]
  },
  {
   "cell_type": "markdown",
   "id": "35ef153c-d183-4683-8724-aa8f41919628",
   "metadata": {},
   "source": [
    "..."
   ]
  },
  {
   "cell_type": "markdown",
   "id": "36114473-e845-4131-9f9a-21cbc874b2c8",
   "metadata": {},
   "source": [
    "#### The Question"
   ]
  },
  {
   "cell_type": "markdown",
   "id": "3897d421-cc01-42d5-8673-6f23ad17ee3b",
   "metadata": {},
   "source": [
    "..."
   ]
  },
  {
   "cell_type": "markdown",
   "id": "07f8bf54-eed0-454a-accd-9838755cac5d",
   "metadata": {},
   "source": [
    "#### The Data"
   ]
  },
  {
   "cell_type": "markdown",
   "id": "db87ae2e-bc13-4ed4-8241-3d099e6e2c7f",
   "metadata": {},
   "source": [
    "..."
   ]
  },
  {
   "cell_type": "markdown",
   "id": "ffff8da0-10d3-48ba-ae38-a759ee02b1f6",
   "metadata": {},
   "source": [
    "## Methods & Results"
   ]
  },
  {
   "cell_type": "markdown",
   "id": "46f77109-16fc-4799-aada-b16309a39611",
   "metadata": {},
   "source": [
    "#### Loading the Data"
   ]
  },
  {
   "cell_type": "markdown",
   "id": "1353d06a-dcc8-4301-8487-6ee570f5e017",
   "metadata": {},
   "source": [
    "First, we must load in the nessary libaries for working with data frames, resizing graphs, and working with predictive models respectivley."
   ]
  },
  {
   "cell_type": "code",
   "execution_count": 1,
   "id": "3434c2f8-49da-451c-980c-a3aa2263b593",
   "metadata": {},
   "outputs": [
    {
     "name": "stderr",
     "output_type": "stream",
     "text": [
      "── \u001b[1mAttaching core tidyverse packages\u001b[22m ──────────────────────── tidyverse 2.0.0 ──\n",
      "\u001b[32m✔\u001b[39m \u001b[34mdplyr    \u001b[39m 1.1.4     \u001b[32m✔\u001b[39m \u001b[34mreadr    \u001b[39m 2.1.5\n",
      "\u001b[32m✔\u001b[39m \u001b[34mforcats  \u001b[39m 1.0.0     \u001b[32m✔\u001b[39m \u001b[34mstringr  \u001b[39m 1.5.1\n",
      "\u001b[32m✔\u001b[39m \u001b[34mggplot2  \u001b[39m 3.5.1     \u001b[32m✔\u001b[39m \u001b[34mtibble   \u001b[39m 3.2.1\n",
      "\u001b[32m✔\u001b[39m \u001b[34mlubridate\u001b[39m 1.9.3     \u001b[32m✔\u001b[39m \u001b[34mtidyr    \u001b[39m 1.3.1\n",
      "\u001b[32m✔\u001b[39m \u001b[34mpurrr    \u001b[39m 1.0.2     \n",
      "── \u001b[1mConflicts\u001b[22m ────────────────────────────────────────── tidyverse_conflicts() ──\n",
      "\u001b[31m✖\u001b[39m \u001b[34mdplyr\u001b[39m::\u001b[32mfilter()\u001b[39m masks \u001b[34mstats\u001b[39m::filter()\n",
      "\u001b[31m✖\u001b[39m \u001b[34mdplyr\u001b[39m::\u001b[32mlag()\u001b[39m    masks \u001b[34mstats\u001b[39m::lag()\n",
      "\u001b[36mℹ\u001b[39m Use the conflicted package (\u001b[3m\u001b[34m<http://conflicted.r-lib.org/>\u001b[39m\u001b[23m) to force all conflicts to become errors\n",
      "── \u001b[1mAttaching packages\u001b[22m ────────────────────────────────────── tidymodels 1.1.1 ──\n",
      "\n",
      "\u001b[32m✔\u001b[39m \u001b[34mbroom       \u001b[39m 1.0.6     \u001b[32m✔\u001b[39m \u001b[34mrsample     \u001b[39m 1.2.1\n",
      "\u001b[32m✔\u001b[39m \u001b[34mdials       \u001b[39m 1.3.0     \u001b[32m✔\u001b[39m \u001b[34mtune        \u001b[39m 1.1.2\n",
      "\u001b[32m✔\u001b[39m \u001b[34minfer       \u001b[39m 1.0.7     \u001b[32m✔\u001b[39m \u001b[34mworkflows   \u001b[39m 1.1.4\n",
      "\u001b[32m✔\u001b[39m \u001b[34mmodeldata   \u001b[39m 1.4.0     \u001b[32m✔\u001b[39m \u001b[34mworkflowsets\u001b[39m 1.0.1\n",
      "\u001b[32m✔\u001b[39m \u001b[34mparsnip     \u001b[39m 1.2.1     \u001b[32m✔\u001b[39m \u001b[34myardstick   \u001b[39m 1.3.1\n",
      "\u001b[32m✔\u001b[39m \u001b[34mrecipes     \u001b[39m 1.1.0     \n",
      "\n",
      "── \u001b[1mConflicts\u001b[22m ───────────────────────────────────────── tidymodels_conflicts() ──\n",
      "\u001b[31m✖\u001b[39m \u001b[34mscales\u001b[39m::\u001b[32mdiscard()\u001b[39m masks \u001b[34mpurrr\u001b[39m::discard()\n",
      "\u001b[31m✖\u001b[39m \u001b[34mdplyr\u001b[39m::\u001b[32mfilter()\u001b[39m   masks \u001b[34mstats\u001b[39m::filter()\n",
      "\u001b[31m✖\u001b[39m \u001b[34mrecipes\u001b[39m::\u001b[32mfixed()\u001b[39m  masks \u001b[34mstringr\u001b[39m::fixed()\n",
      "\u001b[31m✖\u001b[39m \u001b[34mdplyr\u001b[39m::\u001b[32mlag()\u001b[39m      masks \u001b[34mstats\u001b[39m::lag()\n",
      "\u001b[31m✖\u001b[39m \u001b[34myardstick\u001b[39m::\u001b[32mspec()\u001b[39m masks \u001b[34mreadr\u001b[39m::spec()\n",
      "\u001b[31m✖\u001b[39m \u001b[34mrecipes\u001b[39m::\u001b[32mstep()\u001b[39m   masks \u001b[34mstats\u001b[39m::step()\n",
      "\u001b[34m•\u001b[39m Use suppressPackageStartupMessages() to eliminate package startup messages\n",
      "\n"
     ]
    }
   ],
   "source": [
    "library(tidyverse)\n",
    "library(repr)\n",
    "library(tidymodels)"
   ]
  },
  {
   "cell_type": "markdown",
   "id": "0a02b1fc-4833-4264-9851-5a87cbf2afe0",
   "metadata": {},
   "source": [
    "Then, we download the player data and read it into R."
   ]
  },
  {
   "cell_type": "code",
   "execution_count": 4,
   "id": "44d39cca-ce41-4abe-8c39-1afe364e79da",
   "metadata": {},
   "outputs": [
    {
     "name": "stderr",
     "output_type": "stream",
     "text": [
      "\u001b[1mRows: \u001b[22m\u001b[34m196\u001b[39m \u001b[1mColumns: \u001b[22m\u001b[34m7\u001b[39m\n",
      "\u001b[36m──\u001b[39m \u001b[1mColumn specification\u001b[22m \u001b[36m────────────────────────────────────────────────────────\u001b[39m\n",
      "\u001b[1mDelimiter:\u001b[22m \",\"\n",
      "\u001b[31mchr\u001b[39m (4): experience, hashedEmail, name, gender\n",
      "\u001b[32mdbl\u001b[39m (2): played_hours, Age\n",
      "\u001b[33mlgl\u001b[39m (1): subscribe\n",
      "\n",
      "\u001b[36mℹ\u001b[39m Use `spec()` to retrieve the full column specification for this data.\n",
      "\u001b[36mℹ\u001b[39m Specify the column types or set `show_col_types = FALSE` to quiet this message.\n"
     ]
    },
    {
     "name": "stdout",
     "output_type": "stream",
     "text": [
      "Rows: 196\n",
      "Columns: 7\n",
      "$ experience   \u001b[3m\u001b[90m<chr>\u001b[39m\u001b[23m \"Pro\", \"Veteran\", \"Veteran\", \"Amateur\", \"Regular\", \"Amate…\n",
      "$ subscribe    \u001b[3m\u001b[90m<lgl>\u001b[39m\u001b[23m TRUE, TRUE, FALSE, TRUE, TRUE, TRUE, TRUE, FALSE, TRUE, T…\n",
      "$ hashedEmail  \u001b[3m\u001b[90m<chr>\u001b[39m\u001b[23m \"f6daba428a5e19a3d47574858c13550499be23603422e6a0ee9728f8…\n",
      "$ played_hours \u001b[3m\u001b[90m<dbl>\u001b[39m\u001b[23m 30.3, 3.8, 0.0, 0.7, 0.1, 0.0, 0.0, 0.0, 0.1, 0.0, 1.6, 0…\n",
      "$ name         \u001b[3m\u001b[90m<chr>\u001b[39m\u001b[23m \"Morgan\", \"Christian\", \"Blake\", \"Flora\", \"Kylie\", \"Adrian…\n",
      "$ gender       \u001b[3m\u001b[90m<chr>\u001b[39m\u001b[23m \"Male\", \"Male\", \"Male\", \"Female\", \"Male\", \"Female\", \"Fema…\n",
      "$ Age          \u001b[3m\u001b[90m<dbl>\u001b[39m\u001b[23m 9, 17, 17, 21, 21, 17, 19, 21, 17, 22, 23, 17, 25, 22, 17…\n"
     ]
    }
   ],
   "source": [
    "players_url <- \"https://drive.google.com/uc?export=download&id=18CyKdv1ppgp7RraugrDq66w_T-6dkrdG\"\n",
    "\n",
    "download.file(players_url, \"players.csv\")\n",
    "\n",
    "players <- read_csv(\"players.csv\")\n",
    "\n",
    "glimpse(players)"
   ]
  },
  {
   "cell_type": "markdown",
   "id": "32caa7e5-83fe-4397-b6b7-480274656283",
   "metadata": {},
   "source": [
    "#### Wrangling the Data"
   ]
  },
  {
   "cell_type": "markdown",
   "id": "2b0f7f47-8adb-454c-9a50-b3a8d451818f",
   "metadata": {},
   "source": [
    "We will need to convert the columns to their proper types, so experience will be a factor, Age is an integer, ect. We also want to remove any rows with NA values, which in this case happens to only be in the Age column."
   ]
  },
  {
   "cell_type": "code",
   "execution_count": 7,
   "id": "72861781-b9c3-4fd9-8b1d-64ae545e90d5",
   "metadata": {},
   "outputs": [
    {
     "name": "stdout",
     "output_type": "stream",
     "text": [
      "Rows: 194\n",
      "Columns: 7\n",
      "$ experience   \u001b[3m\u001b[90m<fct>\u001b[39m\u001b[23m Pro, Veteran, Veteran, Amateur, Regular, Amateur, Regular…\n",
      "$ subscribe    \u001b[3m\u001b[90m<lgl>\u001b[39m\u001b[23m TRUE, TRUE, FALSE, TRUE, TRUE, TRUE, TRUE, FALSE, TRUE, T…\n",
      "$ hashedEmail  \u001b[3m\u001b[90m<chr>\u001b[39m\u001b[23m \"f6daba428a5e19a3d47574858c13550499be23603422e6a0ee9728f8…\n",
      "$ played_hours \u001b[3m\u001b[90m<dbl>\u001b[39m\u001b[23m 30.3, 3.8, 0.0, 0.7, 0.1, 0.0, 0.0, 0.0, 0.1, 0.0, 1.6, 0…\n",
      "$ name         \u001b[3m\u001b[90m<chr>\u001b[39m\u001b[23m \"Morgan\", \"Christian\", \"Blake\", \"Flora\", \"Kylie\", \"Adrian…\n",
      "$ gender       \u001b[3m\u001b[90m<fct>\u001b[39m\u001b[23m Male, Male, Male, Female, Male, Female, Female, Male, Mal…\n",
      "$ Age          \u001b[3m\u001b[90m<int>\u001b[39m\u001b[23m 9, 17, 17, 21, 21, 17, 19, 21, 17, 22, 23, 17, 25, 22, 17…\n"
     ]
    }
   ],
   "source": [
    "players <- mutate(players,\n",
    "    experience = as_factor(experience),\n",
    "    gender = as_factor(gender),\n",
    "    Age = as.integer(Age)) |>\n",
    "    filter(!is.na(Age))\n",
    "\n",
    "glimpse(players)"
   ]
  },
  {
   "cell_type": "markdown",
   "id": "97dd0e4e-2ac4-4abf-8a16-bc552f0c7b1c",
   "metadata": {},
   "source": [
    "#### Summary Statistics"
   ]
  },
  {
   "cell_type": "markdown",
   "id": "764c8d36-af9b-4cf7-90ed-ac7b84bb142c",
   "metadata": {},
   "source": [
    "[description of methods]"
   ]
  },
  {
   "cell_type": "code",
   "execution_count": null,
   "id": "f31977c8-0a8d-4d56-a04c-7dcde2b6c0d2",
   "metadata": {},
   "outputs": [],
   "source": []
  },
  {
   "cell_type": "markdown",
   "id": "eaad673d-0d24-45f6-abfe-c44f6fc26f2a",
   "metadata": {},
   "source": [
    "#### Visualizations"
   ]
  },
  {
   "cell_type": "markdown",
   "id": "dec5e37e-7817-410d-9ba0-d0cb8db88aaa",
   "metadata": {},
   "source": [
    "[description of methods]"
   ]
  },
  {
   "cell_type": "code",
   "execution_count": 4,
   "id": "d4eb4223-60fc-4511-b821-b5d0955664c8",
   "metadata": {},
   "outputs": [],
   "source": [
    "# these visualizations are relevant for exploratory data analysis and related to the planned analysis\n",
    "\n",
    "# note: all figures should have a figure number and a legend"
   ]
  },
  {
   "cell_type": "markdown",
   "id": "2588b307-340b-45b1-b995-254be8a595ef",
   "metadata": {},
   "source": [
    "#### Modeling and Analysis"
   ]
  },
  {
   "cell_type": "markdown",
   "id": "744a2dc1-6aba-4671-acb6-10a9e50dbcfd",
   "metadata": {},
   "source": [
    "[description of methods]"
   ]
  },
  {
   "cell_type": "code",
   "execution_count": null,
   "id": "1c2fc76b-ffe1-4efe-a1f9-c419b2e33f34",
   "metadata": {},
   "outputs": [],
   "source": [
    "# should include visualizations of model"
   ]
  },
  {
   "cell_type": "markdown",
   "id": "1525f5ee-5a59-4458-8488-f077ee3cd74d",
   "metadata": {},
   "source": [
    "## Discussion (write in Discussion.md first)"
   ]
  },
  {
   "cell_type": "markdown",
   "id": "b22e6491-7b5b-40e2-b4eb-de103d5cee9f",
   "metadata": {},
   "source": [
    "#### Summary"
   ]
  },
  {
   "cell_type": "markdown",
   "id": "9aec13a1-64dc-4b1e-a57d-e75284250ec9",
   "metadata": {},
   "source": [
    "..."
   ]
  },
  {
   "cell_type": "markdown",
   "id": "bd8a31d0-52e2-475c-aad0-f44ff1b81eee",
   "metadata": {},
   "source": [
    "#### Is this what you expected?"
   ]
  },
  {
   "cell_type": "markdown",
   "id": "b5bee27d-a5ef-4ccd-bf40-5381f81a1655",
   "metadata": {},
   "source": [
    "..."
   ]
  },
  {
   "cell_type": "markdown",
   "id": "b6399b6c-591a-45f8-b5e0-00dfc5c71476",
   "metadata": {},
   "source": [
    "#### What is the impact of the findings?"
   ]
  },
  {
   "cell_type": "markdown",
   "id": "f52eb4b2-ed8e-4eef-8919-8a9cc6499bb7",
   "metadata": {},
   "source": [
    "..."
   ]
  },
  {
   "cell_type": "markdown",
   "id": "39ae97da-cf1c-4a30-863f-09bc1adccb33",
   "metadata": {},
   "source": [
    "#### Future Questions"
   ]
  },
  {
   "cell_type": "markdown",
   "id": "73a6a51e-8eba-447b-9198-e83082b68962",
   "metadata": {},
   "source": [
    "..."
   ]
  }
 ],
 "metadata": {
  "kernelspec": {
   "display_name": "R",
   "language": "R",
   "name": "ir"
  },
  "language_info": {
   "codemirror_mode": "r",
   "file_extension": ".r",
   "mimetype": "text/x-r-source",
   "name": "R",
   "pygments_lexer": "r",
   "version": "4.3.3"
  }
 },
 "nbformat": 4,
 "nbformat_minor": 5
}
